{
 "cells": [
  {
   "cell_type": "code",
   "execution_count": 1,
   "metadata": {},
   "outputs": [],
   "source": [
    "import os\n",
    "import sys\n",
    "import torch\n",
    "from torchvision import transforms"
   ]
  },
  {
   "cell_type": "code",
   "execution_count": 2,
   "metadata": {},
   "outputs": [],
   "source": [
    "sys.path.append('../')"
   ]
  },
  {
   "cell_type": "code",
   "execution_count": 11,
   "metadata": {},
   "outputs": [],
   "source": [
    "from src.models.vae import VAE\n",
    "from src.data.dataset import CityImageDataset\n",
    "from src.data.invert import Invert\n",
    "from settings import FIGPATH\n",
    "import matplotlib.pyplot as plt\n",
    "%matplotlib inline"
   ]
  },
  {
   "cell_type": "code",
   "execution_count": 4,
   "metadata": {},
   "outputs": [
    {
     "name": "stdout",
     "output_type": "stream",
     "text": [
      "cpu\n"
     ]
    }
   ],
   "source": [
    "device = torch.device('cuda' if torch.cuda.is_available() else 'cpu')\n",
    "print(device)"
   ]
  },
  {
   "cell_type": "markdown",
   "metadata": {},
   "source": [
    "* Load model"
   ]
  },
  {
   "cell_type": "code",
   "execution_count": 5,
   "metadata": {},
   "outputs": [],
   "source": [
    "image_channels = 1\n",
    "model = VAE(image_channels=image_channels, h_dim=1024).to(device)\n",
    "model.load_state_dict(torch.load('../src/models/vae.torch', map_location='cpu'))   # Start with pretrained model."
   ]
  },
  {
   "cell_type": "code",
   "execution_count": 6,
   "metadata": {},
   "outputs": [
    {
     "data": {
      "text/plain": [
       "VAE(\n",
       "  (encoder): Sequential(\n",
       "    (0): Conv2d(1, 32, kernel_size=(4, 4), stride=(2, 2))\n",
       "    (1): ReLU()\n",
       "    (2): Conv2d(32, 64, kernel_size=(4, 4), stride=(2, 2))\n",
       "    (3): ReLU()\n",
       "    (4): Conv2d(64, 128, kernel_size=(4, 4), stride=(2, 2))\n",
       "    (5): ReLU()\n",
       "    (6): Conv2d(128, 256, kernel_size=(4, 4), stride=(2, 2))\n",
       "    (7): ReLU()\n",
       "    (8): Flatten()\n",
       "  )\n",
       "  (fc1): Linear(in_features=1024, out_features=32, bias=True)\n",
       "  (fc2): Linear(in_features=1024, out_features=32, bias=True)\n",
       "  (fc3): Linear(in_features=32, out_features=1024, bias=True)\n",
       "  (decoder): Sequential(\n",
       "    (0): UnFlatten()\n",
       "    (1): ConvTranspose2d(1024, 128, kernel_size=(5, 5), stride=(2, 2))\n",
       "    (2): ReLU()\n",
       "    (3): ConvTranspose2d(128, 64, kernel_size=(5, 5), stride=(2, 2))\n",
       "    (4): ReLU()\n",
       "    (5): ConvTranspose2d(64, 32, kernel_size=(6, 6), stride=(2, 2))\n",
       "    (6): ReLU()\n",
       "    (7): ConvTranspose2d(32, 1, kernel_size=(6, 6), stride=(2, 2))\n",
       "    (8): Sigmoid()\n",
       "  )\n",
       ")"
      ]
     },
     "execution_count": 6,
     "metadata": {},
     "output_type": "execute_result"
    }
   ],
   "source": [
    "model"
   ]
  },
  {
   "cell_type": "markdown",
   "metadata": {},
   "source": [
    "* Prepare data"
   ]
  },
  {
   "cell_type": "code",
   "execution_count": 7,
   "metadata": {},
   "outputs": [],
   "source": [
    "datapath = os.path.join(FIGPATH,'figures_20000')"
   ]
  },
  {
   "cell_type": "code",
   "execution_count": 8,
   "metadata": {},
   "outputs": [
    {
     "data": {
      "text/plain": [
       "'../reports/figures/figures_20000'"
      ]
     },
     "execution_count": 8,
     "metadata": {},
     "output_type": "execute_result"
    }
   ],
   "source": [
    "datapath"
   ]
  },
  {
   "cell_type": "code",
   "execution_count": 9,
   "metadata": {},
   "outputs": [],
   "source": [
    "train_dataset = CityImageDataset(root=os.path.join(datapath,'train'),transform=transforms.Compose([\n",
    "    transforms.Grayscale(),\n",
    "    Invert(),\n",
    "    transforms.CenterCrop(128),    # instead of random crop\n",
    "    transforms.Resize(64),\n",
    "    transforms.ToTensor(),\n",
    "]))\n",
    "train_loader = torch.utils.data.DataLoader(\n",
    "    train_dataset,\n",
    "    batch_size=1\n",
    ")"
   ]
  },
  {
   "cell_type": "code",
   "execution_count": 12,
   "metadata": {},
   "outputs": [
    {
     "data": {
      "text/plain": [
       "<matplotlib.image.AxesImage at 0x11d8efc18>"
      ]
     },
     "execution_count": 12,
     "metadata": {},
     "output_type": "execute_result"
    },
    {
     "data": {
      "image/png": "[encoded data removed]",
      "text/plain": [
       "<Figure size 432x288 with 1 Axes>"
      ]
     },
     "metadata": {
      "needs_background": "light"
     },
     "output_type": "display_data"
    }
   ],
   "source": [
    "plt.imshow(train_dataset[1][0].view(64,64).numpy())"
   ]
  },
  {
   "cell_type": "markdown",
   "metadata": {},
   "source": [
    "* Get latent codes"
   ]
  },
  {
   "cell_type": "code",
   "execution_count": 41,
   "metadata": {},
   "outputs": [],
   "source": [
    "import numpy as np\n",
    "z_images = np.zeros((848,32))\n",
    "image_names = []\n",
    "image_tensors = []\n",
    "with torch.no_grad():\n",
    "    for idx, (image, _, image_name) in enumerate(train_loader):\n",
    "        z_image = model.encode(image)[0].numpy()\n",
    "        z_images[idx] = z_image\n",
    "        image_names.append(image_name)\n",
    "        image_tensors.append(image)"
   ]
  },
  {
   "cell_type": "code",
   "execution_count": 31,
   "metadata": {},
   "outputs": [
    {
     "data": {
      "text/plain": [
       "<matplotlib.image.AxesImage at 0x11c6133c8>"
      ]
     },
     "execution_count": 31,
     "metadata": {},
     "output_type": "execute_result"
    },
    {
     "data": {
      "image/png": "[encoded data removed]",
      "text/plain": [
       "<Figure size 432x288 with 1 Axes>"
      ]
     },
     "metadata": {
      "needs_background": "light"
     },
     "output_type": "display_data"
    }
   ],
   "source": [
    "plt.imshow(image.view(64,64).numpy())"
   ]
  },
  {
   "cell_type": "markdown",
   "metadata": {},
   "source": [
    "* Project latent codes to 2D"
   ]
  },
  {
   "cell_type": "code",
   "execution_count": 15,
   "metadata": {},
   "outputs": [],
   "source": [
    "from sklearn.manifold import TSNE"
   ]
  },
  {
   "cell_type": "code",
   "execution_count": 16,
   "metadata": {},
   "outputs": [],
   "source": [
    "z_embedded = TSNE(n_components=2).fit_transform(z_images)"
   ]
  },
  {
   "cell_type": "code",
   "execution_count": 17,
   "metadata": {},
   "outputs": [
    {
     "data": {
      "text/plain": [
       "<matplotlib.collections.PathCollection at 0x1a244cffd0>"
      ]
     },
     "execution_count": 17,
     "metadata": {},
     "output_type": "execute_result"
    },
    {
     "data": {
      "image/png": "[encoded data removed]",
      "text/plain": [
       "<Figure size 432x288 with 1 Axes>"
      ]
     },
     "metadata": {
      "needs_background": "light"
     },
     "output_type": "display_data"
    }
   ],
   "source": [
    "import matplotlib.pyplot as plt\n",
    "%matplotlib inline\n",
    "plt.scatter(z_embedded[:,0],z_embedded[:,1])"
   ]
  },
  {
   "cell_type": "markdown",
   "metadata": {},
   "source": [
    "* Colour dots by country code"
   ]
  },
  {
   "cell_type": "code",
   "execution_count": 18,
   "metadata": {},
   "outputs": [],
   "source": [
    "country_codes = []\n",
    "for img in image_names:\n",
    "    code = img[0].split('/')[-1].split('_')[0]\n",
    "    country_codes.append(code)"
   ]
  },
  {
   "cell_type": "code",
   "execution_count": 19,
   "metadata": {},
   "outputs": [],
   "source": [
    "from collections import Counter"
   ]
  },
  {
   "cell_type": "code",
   "execution_count": 20,
   "metadata": {},
   "outputs": [
    {
     "data": {
      "text/plain": [
       "array(['AE', 'AF', 'AL', 'AM', 'AO', 'AR', 'AU', 'AZ', 'BD', 'BE', 'BF',\n",
       "       'BH', 'BI', 'BJ', 'BO', 'BR', 'BY', 'CA', 'CD', 'CF', 'CG', 'CH',\n",
       "       'CI', 'CL', 'CM', 'CN', 'CO', 'CR', 'CU', 'CZ', 'DE', 'DO', 'DZ',\n",
       "       'EC', 'EG', 'EL', 'ER', 'ES', 'ET', 'FR', 'GA', 'GE', 'GH', 'GM',\n",
       "       'GN', 'GT', 'HK', 'HN', 'HR', 'HT', 'ID', 'IE', 'IL', 'IN', 'IQ',\n",
       "       'IR', 'IT', 'JM', 'JO', 'JP', 'KE', 'KH', 'KP', 'KR', 'KW', 'KZ',\n",
       "       'LB', 'LK', 'LR', 'LV', 'LY', 'MA', 'MD', 'MG', 'ML', 'MM', 'MN',\n",
       "       'MR', 'MU', 'MW', 'MX', 'MY', 'MZ', 'NE', 'NG', 'NI', 'NL', 'NO',\n",
       "       'NP', 'NZ', 'PA', 'PH', 'PK', 'PL', 'PR', 'PS', 'PT', 'PY', 'QA',\n",
       "       'RO', 'RS', 'RU', 'RW', 'SA', 'SD', 'SG', 'SL', 'SN', 'SO', 'SV',\n",
       "       'SY', 'TD', 'TG', 'TM', 'TN', 'TR', 'TZ', 'UA', 'UK', 'US', 'UZ',\n",
       "       'VE', 'VN', 'XH', 'YE', 'ZA', 'ZM', 'ZW'], dtype='<U2')"
      ]
     },
     "execution_count": 20,
     "metadata": {},
     "output_type": "execute_result"
    }
   ],
   "source": [
    "np.unique(country_codes)"
   ]
  },
  {
   "cell_type": "code",
   "execution_count": 21,
   "metadata": {},
   "outputs": [],
   "source": [
    "colour_vals = dict(zip(np.unique(country_codes),range(1,len(np.unique(country_codes))+1)))"
   ]
  },
  {
   "cell_type": "code",
   "execution_count": 22,
   "metadata": {},
   "outputs": [],
   "source": [
    "colour_codes = [colour_vals[val] for val in country_codes]"
   ]
  },
  {
   "cell_type": "code",
   "execution_count": 23,
   "metadata": {},
   "outputs": [],
   "source": [
    "colour_codes2 = [1 if val != 54 else 5 for val in colour_codes]"
   ]
  },
  {
   "cell_type": "code",
   "execution_count": 24,
   "metadata": {},
   "outputs": [
    {
     "data": {
      "text/plain": [
       "<matplotlib.collections.PathCollection at 0x1a24726470>"
      ]
     },
     "execution_count": 24,
     "metadata": {},
     "output_type": "execute_result"
    },
    {
     "data": {
      "image/png": "[encoded data removed]",
      "text/plain": [
       "<Figure size 432x288 with 1 Axes>"
      ]
     },
     "metadata": {
      "needs_background": "light"
     },
     "output_type": "display_data"
    }
   ],
   "source": [
    "plt.scatter(z_embedded[:,0],z_embedded[:,1], c=colour_codes, cmap='Set1')"
   ]
  },
  {
   "cell_type": "markdown",
   "metadata": {},
   "source": [
    "* Find closest for each image"
   ]
  },
  {
   "cell_type": "code",
   "execution_count": 68,
   "metadata": {},
   "outputs": [],
   "source": [
    "import random\n",
    "from torchvision.utils import save_image\n",
    "from sklearn.metrics import pairwise_distances\n",
    "import os"
   ]
  },
  {
   "cell_type": "code",
   "execution_count": 83,
   "metadata": {},
   "outputs": [],
   "source": [
    "for i in range(0,10):\n",
    "    \n",
    "    # Get random index\n",
    "    idx = random.choice(range(0,len(z_images)))\n",
    "    \n",
    "    # Create output folder\n",
    "    folder_name = image_names[idx][0].split('/')[-1].rstrip('.png')\n",
    "    folder_path = os.path.join('../reports/figures_closest',folder_name)\n",
    "    if not os.path.exists(folder_path):\n",
    "        os.makedirs(folder_path)\n",
    "        \n",
    "    # Save orig image\n",
    "    img_name = '0_'+image_names[idx][0].split('/')[-1]\n",
    "    save_image(image_tensors[idx].cpu(),os.path.join(folder_path,img_name))\n",
    "    \n",
    "    # Get distances\n",
    "    dists = pairwise_distances(np.array(z_images),z_images[idx].reshape(1,-1))\n",
    "    dists[idx]=1000\n",
    "    min_dists = sorted(zip(range(0,len(dists)),dists), key=lambda t: t[1])[0:10]\n",
    "    \n",
    "    for i,(idx_min, dist) in enumerate(min_dists):\n",
    "    \n",
    "        img_name_closest = str(i+1)+'_'+ image_names[idx_min][0].split('/')[-1]\n",
    "        save_image(image_tensors[idx_min].cpu(),os.path.join(folder_path,img_name_closest))"
   ]
  },
  {
   "cell_type": "code",
   "execution_count": 78,
   "metadata": {},
   "outputs": [],
   "source": [
    "min_dists = sorted(zip(range(0,len(dists)),dists), key=lambda t: t[1])"
   ]
  },
  {
   "cell_type": "code",
   "execution_count": 80,
   "metadata": {},
   "outputs": [
    {
     "data": {
      "text/plain": [
       "[(70, array([0.10926306])),\n",
       " (323, array([0.11661518])),\n",
       " (533, array([0.11848763])),\n",
       " (334, array([0.11910185])),\n",
       " (662, array([0.1197234]))]"
      ]
     },
     "execution_count": 80,
     "metadata": {},
     "output_type": "execute_result"
    }
   ],
   "source": [
    "min_dists[0:5]"
   ]
  },
  {
   "cell_type": "code",
   "execution_count": 76,
   "metadata": {},
   "outputs": [
    {
     "data": {
      "text/plain": [
       "[(70, array([0.10926306])),\n",
       " (323, array([0.11661518])),\n",
       " (533, array([0.11848763])),\n",
       " (334, array([0.11910185])),\n",
       " (662, array([0.1197234])),\n",
       " (151, array([0.11983124])),\n",
       " (786, array([0.12034462])),\n",
       " (94, array([0.12062204])),\n",
       " (19, array([0.1210399])),\n",
       " (216, array([0.12196727])),\n",
       " (769, array([0.12231256])),\n",
       " (722, array([0.1233067])),\n",
       " (719, array([0.12358334])),\n",
       " (351, array([0.12387964])),\n",
       " (148, array([0.12415162])),\n",
       " (198, array([0.12422322])),\n",
       " (290, array([0.12555627])),\n",
       " (228, array([0.12746584])),\n",
       " (585, array([0.12770719])),\n",
       " (844, array([0.12793742])),\n",
       " (300, array([0.13005866])),\n",
       " (536, array([0.13031186])),\n",
       " (783, array([0.13162665])),\n",
       " (439, array([0.13199593])),\n",
       " (149, array([0.13216828])),\n",
       " (632, array([0.13219111])),\n",
       " (16, array([0.13287032])),\n",
       " (82, array([0.13337013])),\n",
       " (706, array([0.13373809])),\n",
       " (5, array([0.13387176])),\n",
       " (514, array([0.13390417])),\n",
       " (107, array([0.13396393])),\n",
       " (245, array([0.13426474])),\n",
       " (558, array([0.13447945])),\n",
       " (552, array([0.13529253])),\n",
       " (284, array([0.13549544])),\n",
       " (782, array([0.13610219])),\n",
       " (525, array([0.13655778])),\n",
       " (680, array([0.13664443])),\n",
       " (798, array([0.13676726])),\n",
       " (152, array([0.13686071])),\n",
       " (556, array([0.13689169])),\n",
       " (214, array([0.1374067])),\n",
       " (704, array([0.13762854])),\n",
       " (88, array([0.13789096])),\n",
       " (482, array([0.1386398])),\n",
       " (90, array([0.13954622])),\n",
       " (258, array([0.13992911])),\n",
       " (785, array([0.13998059])),\n",
       " (134, array([0.14021076])),\n",
       " (621, array([0.14021402])),\n",
       " (509, array([0.14026153])),\n",
       " (180, array([0.14142715])),\n",
       " (299, array([0.14156258])),\n",
       " (695, array([0.14157311])),\n",
       " (187, array([0.14178556])),\n",
       " (718, array([0.14256768])),\n",
       " (325, array([0.14328622])),\n",
       " (601, array([0.14332703])),\n",
       " (418, array([0.14345924])),\n",
       " (523, array([0.14348971])),\n",
       " (137, array([0.14377395])),\n",
       " (839, array([0.14402216])),\n",
       " (674, array([0.14418862])),\n",
       " (630, array([0.14492529])),\n",
       " (677, array([0.14513249])),\n",
       " (613, array([0.14542214])),\n",
       " (388, array([0.14581919])),\n",
       " (772, array([0.14589231])),\n",
       " (372, array([0.14590348])),\n",
       " (742, array([0.14592149])),\n",
       " (507, array([0.14618735])),\n",
       " (340, array([0.14620979])),\n",
       " (111, array([0.14649019])),\n",
       " (253, array([0.14654237])),\n",
       " (743, array([0.14668096])),\n",
       " (362, array([0.14715609])),\n",
       " (354, array([0.14741595])),\n",
       " (175, array([0.14743404])),\n",
       " (582, array([0.14750103])),\n",
       " (710, array([0.14780386])),\n",
       " (46, array([0.14829889])),\n",
       " (750, array([0.14889841])),\n",
       " (200, array([0.1494297])),\n",
       " (194, array([0.14950318])),\n",
       " (707, array([0.14953474])),\n",
       " (160, array([0.15118759])),\n",
       " (622, array([0.15169227])),\n",
       " (219, array([0.15174178])),\n",
       " (492, array([0.15196067])),\n",
       " (44, array([0.15246539])),\n",
       " (26, array([0.15394944])),\n",
       " (731, array([0.15426587])),\n",
       " (29, array([0.15435211])),\n",
       " (747, array([0.15493002])),\n",
       " (610, array([0.15526242])),\n",
       " (248, array([0.15568611])),\n",
       " (708, array([0.15583221])),\n",
       " (515, array([0.15603066])),\n",
       " (449, array([0.15606748])),\n",
       " (169, array([0.1564485])),\n",
       " (256, array([0.15676458])),\n",
       " (496, array([0.15706781])),\n",
       " (559, array([0.15767188])),\n",
       " (410, array([0.15770148])),\n",
       " (311, array([0.15905406])),\n",
       " (502, array([0.15955058])),\n",
       " (306, array([0.16027446])),\n",
       " (115, array([0.16207871])),\n",
       " (99, array([0.16221764])),\n",
       " (457, array([0.16224607])),\n",
       " (564, array([0.16256974])),\n",
       " (754, array([0.16286563])),\n",
       " (81, array([0.16331386])),\n",
       " (40, array([0.16340236])),\n",
       " (784, array([0.1640903])),\n",
       " (608, array([0.16423766])),\n",
       " (10, array([0.16425114])),\n",
       " (733, array([0.16446527])),\n",
       " (705, array([0.16479141])),\n",
       " (834, array([0.16555678])),\n",
       " (682, array([0.16721668])),\n",
       " (241, array([0.16733168])),\n",
       " (285, array([0.1684446])),\n",
       " (364, array([0.16993834])),\n",
       " (65, array([0.17098267])),\n",
       " (685, array([0.18099741])),\n",
       " (164, array([0.18158419])),\n",
       " (679, array([1.38637012])),\n",
       " (14, array([1.73531666])),\n",
       " (176, array([1.81113232])),\n",
       " (172, array([2.21509165])),\n",
       " (167, array([2.52345152])),\n",
       " (551, array([2.74382039])),\n",
       " (396, array([2.76479764])),\n",
       " (659, array([2.77036088])),\n",
       " (405, array([2.77855022])),\n",
       " (22, array([2.81966])),\n",
       " (369, array([2.9658475])),\n",
       " (693, array([3.00604727])),\n",
       " (8, array([3.08424148])),\n",
       " (9, array([3.3330073])),\n",
       " (791, array([3.55584688])),\n",
       " (516, array([3.75284586])),\n",
       " (316, array([3.80352958])),\n",
       " (421, array([4.09061688])),\n",
       " (193, array([4.21771857])),\n",
       " (104, array([4.22716904])),\n",
       " (51, array([4.41397738])),\n",
       " (643, array([4.5863491])),\n",
       " (332, array([4.6889252])),\n",
       " (818, array([5.11569579])),\n",
       " (34, array([5.22932969])),\n",
       " (658, array([5.25157689])),\n",
       " (266, array([5.67820338])),\n",
       " (800, array([5.71558779])),\n",
       " (255, array([5.80740537])),\n",
       " (644, array([5.87425636])),\n",
       " (401, array([5.97226124])),\n",
       " (462, array([6.17752652])),\n",
       " (6, array([6.19088798])),\n",
       " (726, array([6.54278739])),\n",
       " (110, array([6.56540459])),\n",
       " (247, array([6.77976074])),\n",
       " (269, array([6.88583071])),\n",
       " (21, array([6.923591])),\n",
       " (835, array([7.00862835])),\n",
       " (295, array([7.05284963])),\n",
       " (182, array([7.28949817])),\n",
       " (179, array([7.32047892])),\n",
       " (113, array([7.38839054])),\n",
       " (495, array([7.49308174])),\n",
       " (631, array([7.81290453])),\n",
       " (775, array([7.91866767])),\n",
       " (538, array([7.93293383])),\n",
       " (661, array([7.93966098])),\n",
       " (109, array([7.96428725])),\n",
       " (262, array([8.01703584])),\n",
       " (254, array([8.06650554])),\n",
       " (737, array([8.10277886])),\n",
       " (451, array([8.33778781])),\n",
       " (505, array([8.47246846])),\n",
       " (127, array([8.53112003])),\n",
       " (600, array([8.64421691])),\n",
       " (25, array([8.65394826])),\n",
       " (729, array([8.71246709])),\n",
       " (793, array([8.77294068])),\n",
       " (625, array([8.81518186])),\n",
       " (213, array([8.84182885])),\n",
       " (76, array([8.91631387])),\n",
       " (288, array([8.92797646])),\n",
       " (736, array([8.95222936])),\n",
       " (394, array([9.18041376])),\n",
       " (315, array([9.28868739])),\n",
       " (771, array([9.29511492])),\n",
       " (232, array([9.36765845])),\n",
       " (143, array([9.38279221])),\n",
       " (805, array([9.39431117])),\n",
       " (199, array([9.44784716])),\n",
       " (153, array([9.50721928])),\n",
       " (242, array([9.58874212])),\n",
       " (709, array([9.66382993])),\n",
       " (768, array([9.97082237])),\n",
       " (778, array([10.00165749])),\n",
       " (365, array([10.08001436])),\n",
       " (663, array([10.38097325])),\n",
       " (653, array([10.41211925])),\n",
       " (755, array([10.42774176])),\n",
       " (629, array([10.4487132])),\n",
       " (550, array([10.50597746])),\n",
       " (628, array([10.51652029])),\n",
       " (298, array([10.58337433])),\n",
       " (480, array([10.62022713])),\n",
       " (838, array([10.68905337])),\n",
       " (58, array([10.85262403])),\n",
       " (399, array([10.8896648])),\n",
       " (845, array([10.95464972])),\n",
       " (623, array([11.12953858])),\n",
       " (286, array([11.19413856])),\n",
       " (598, array([11.44418801])),\n",
       " (676, array([11.4612145])),\n",
       " (226, array([11.51226852])),\n",
       " (638, array([11.5179412])),\n",
       " (54, array([11.55407897])),\n",
       " (130, array([11.59182142])),\n",
       " (512, array([11.60209201])),\n",
       " (436, array([11.64249179])),\n",
       " (647, array([11.71037974])),\n",
       " (452, array([11.71076772])),\n",
       " (453, array([11.87894465])),\n",
       " (828, array([11.93264887])),\n",
       " (337, array([11.97083844])),\n",
       " (501, array([11.98617207])),\n",
       " (4, array([11.99610704])),\n",
       " (314, array([12.00910879])),\n",
       " (781, array([12.02109727])),\n",
       " (252, array([12.08851787])),\n",
       " (63, array([12.12253769])),\n",
       " (309, array([12.12845438])),\n",
       " (433, array([12.16774124])),\n",
       " (450, array([12.22014979])),\n",
       " (751, array([12.2334003])),\n",
       " (696, array([12.23665099])),\n",
       " (620, array([12.24412456])),\n",
       " (591, array([12.26203742])),\n",
       " (204, array([12.28101355])),\n",
       " (301, array([12.28488835])),\n",
       " (308, array([12.34144715])),\n",
       " (780, array([12.34544602])),\n",
       " (581, array([12.37826351])),\n",
       " (506, array([12.42550744])),\n",
       " (491, array([12.54802563])),\n",
       " (624, array([12.58395869])),\n",
       " (249, array([12.59393823])),\n",
       " (250, array([12.65284848])),\n",
       " (544, array([12.72269137])),\n",
       " (236, array([12.76507821])),\n",
       " (820, array([12.77440466])),\n",
       " (57, array([12.78209667])),\n",
       " (837, array([12.79991745])),\n",
       " (244, array([12.84883741])),\n",
       " (139, array([12.85983779])),\n",
       " (293, array([12.87080567])),\n",
       " (804, array([12.93080373])),\n",
       " (522, array([12.9850825])),\n",
       " (542, array([13.07632373])),\n",
       " (510, array([13.11791108])),\n",
       " (475, array([13.16980949])),\n",
       " (376, array([13.19947057])),\n",
       " (455, array([13.27525056])),\n",
       " (3, array([13.30103569])),\n",
       " (353, array([13.33140991])),\n",
       " (233, array([13.35087719])),\n",
       " (518, array([13.373799])),\n",
       " (799, array([13.3818064])),\n",
       " (32, array([13.39428621])),\n",
       " (673, array([13.42441041])),\n",
       " (545, array([13.51062409])),\n",
       " (748, array([13.52272286])),\n",
       " (329, array([13.53401732])),\n",
       " (437, array([13.55315466])),\n",
       " (460, array([13.56136005])),\n",
       " (761, array([13.57958313])),\n",
       " (732, array([13.58680251])),\n",
       " (675, array([13.70256491])),\n",
       " (720, array([13.76716833])),\n",
       " (481, array([13.81152107])),\n",
       " (746, array([13.8172979])),\n",
       " (730, array([13.87688037])),\n",
       " (411, array([14.05088781])),\n",
       " (671, array([14.06431314])),\n",
       " (59, array([14.11481855])),\n",
       " (321, array([14.1183796])),\n",
       " (843, array([14.13212663])),\n",
       " (368, array([14.15632482])),\n",
       " (749, array([14.17783657])),\n",
       " (27, array([14.22981685])),\n",
       " (517, array([14.23813298])),\n",
       " (487, array([14.24257743])),\n",
       " (666, array([14.25575725])),\n",
       " (626, array([14.3107362])),\n",
       " (52, array([14.325797])),\n",
       " (391, array([14.36320051])),\n",
       " (349, array([14.4115042])),\n",
       " (841, array([14.43300533])),\n",
       " (689, array([14.43368309])),\n",
       " (484, array([14.43369364])),\n",
       " (456, array([14.53328633])),\n",
       " (826, array([14.57307166])),\n",
       " (103, array([14.61533776])),\n",
       " (355, array([14.62771117])),\n",
       " (133, array([14.68300414])),\n",
       " (819, array([14.68887013])),\n",
       " (336, array([14.77822622])),\n",
       " (497, array([14.79323784])),\n",
       " (408, array([14.79507885])),\n",
       " (499, array([14.8656852])),\n",
       " (379, array([14.87076219])),\n",
       " (795, array([14.99046122])),\n",
       " (159, array([15.00861727])),\n",
       " (208, array([15.02525735])),\n",
       " (597, array([15.04550866])),\n",
       " (824, array([15.10600393])),\n",
       " (190, array([15.1387098])),\n",
       " (333, array([15.185254])),\n",
       " (635, array([15.19225696])),\n",
       " (373, array([15.19886102])),\n",
       " (92, array([15.20321662])),\n",
       " (734, array([15.25666668])),\n",
       " (464, array([15.27348805])),\n",
       " (166, array([15.29304044])),\n",
       " (797, array([15.31637301])),\n",
       " (55, array([15.31792061])),\n",
       " (547, array([15.31873675])),\n",
       " (589, array([15.34395217])),\n",
       " (7, array([15.37516446])),\n",
       " (346, array([15.39755569])),\n",
       " (322, array([15.41682589])),\n",
       " (602, array([15.47996238])),\n",
       " (595, array([15.48539682])),\n",
       " (758, array([15.54186403])),\n",
       " (757, array([15.55061079])),\n",
       " (345, array([15.57551115])),\n",
       " (392, array([15.60301398])),\n",
       " (645, array([15.61765766])),\n",
       " (847, array([15.7176501])),\n",
       " (794, array([15.72942167])),\n",
       " (654, array([15.74793668])),\n",
       " (335, array([15.77579433])),\n",
       " (593, array([15.80402352])),\n",
       " (614, array([15.82919875])),\n",
       " (125, array([15.84522541])),\n",
       " (124, array([15.84679995])),\n",
       " (390, array([15.87652394])),\n",
       " (234, array([15.92923826])),\n",
       " (240, array([15.94413899])),\n",
       " (1, array([15.94897988])),\n",
       " (237, array([15.96120094])),\n",
       " (263, array([15.96168658])),\n",
       " (633, array([15.97130831])),\n",
       " (131, array([15.9966054])),\n",
       " (842, array([16.00009703])),\n",
       " (128, array([16.01713749])),\n",
       " (656, array([16.01825625])),\n",
       " (119, array([16.01973033])),\n",
       " (684, array([16.03353552])),\n",
       " (43, array([16.04780059])),\n",
       " (35, array([16.10901437])),\n",
       " (569, array([16.12499004])),\n",
       " (712, array([16.12883723])),\n",
       " (521, array([16.14816179])),\n",
       " (177, array([16.1663528])),\n",
       " (403, array([16.21319107])),\n",
       " (186, array([16.2280119])),\n",
       " (568, array([16.28029435])),\n",
       " (202, array([16.30041487])),\n",
       " (31, array([16.31689872])),\n",
       " (435, array([16.32320403])),\n",
       " (701, array([16.368942])),\n",
       " (289, array([16.37517351])),\n",
       " (292, array([16.39028359])),\n",
       " (590, array([16.40070134])),\n",
       " (531, array([16.4115889])),\n",
       " (498, array([16.41260273])),\n",
       " (504, array([16.436657])),\n",
       " (225, array([16.44139661])),\n",
       " (184, array([16.49398085])),\n",
       " (477, array([16.50688237])),\n",
       " (395, array([16.51649787])),\n",
       " (454, array([16.54111253])),\n",
       " (30, array([16.56364424])),\n",
       " (123, array([16.60898155])),\n",
       " (135, array([16.61284114])),\n",
       " (753, array([16.62478233])),\n",
       " (238, array([16.63597769])),\n",
       " (304, array([16.66832087])),\n",
       " (573, array([16.67279518])),\n",
       " (446, array([16.67480056])),\n",
       " (476, array([16.69369244])),\n",
       " (520, array([16.74036798])),\n",
       " (441, array([16.75541104])),\n",
       " (810, array([16.77893836])),\n",
       " (442, array([16.79007014])),\n",
       " (83, array([16.80050424])),\n",
       " (605, array([16.80099499])),\n",
       " (616, array([16.82557031])),\n",
       " (303, array([16.83886349])),\n",
       " (75, array([16.86291827])),\n",
       " (64, array([16.86584214])),\n",
       " (89, array([16.88526323])),\n",
       " (429, array([16.897152])),\n",
       " (434, array([16.89896424])),\n",
       " (571, array([16.91092526])),\n",
       " (116, array([16.92594481])),\n",
       " (744, array([16.93222588])),\n",
       " (18, array([16.9427255])),\n",
       " (77, array([16.94808878])),\n",
       " (381, array([16.94858743])),\n",
       " (739, array([16.98134338])),\n",
       " (382, array([17.00899763])),\n",
       " (702, array([17.01255366])),\n",
       " (670, array([17.03950255])),\n",
       " (296, array([17.08909111])),\n",
       " (170, array([17.08954725])),\n",
       " (463, array([17.09059104])),\n",
       " (50, array([17.111336])),\n",
       " (513, array([17.119318])),\n",
       " (145, array([17.13881219])),\n",
       " (312, array([17.14589866])),\n",
       " (211, array([17.17195212])),\n",
       " (93, array([17.19540719])),\n",
       " (246, array([17.19879257])),\n",
       " (412, array([17.23410446])),\n",
       " (409, array([17.25769307])),\n",
       " (667, array([17.26202738])),\n",
       " (98, array([17.27045096])),\n",
       " (821, array([17.3361349])),\n",
       " (594, array([17.35153818])),\n",
       " (66, array([17.35624915])),\n",
       " (723, array([17.38314145])),\n",
       " (287, array([17.39303186])),\n",
       " (138, array([17.39602239])),\n",
       " (72, array([17.39821192])),\n",
       " (508, array([17.40899995])),\n",
       " (343, array([17.41231479])),\n",
       " (459, array([17.44391326])),\n",
       " (652, array([17.58562743])),\n",
       " (537, array([17.62324042])),\n",
       " (223, array([17.64087424])),\n",
       " (465, array([17.6773495])),\n",
       " (282, array([17.68930995])),\n",
       " (634, array([17.70323822])),\n",
       " (650, array([17.71893666])),\n",
       " (352, array([17.72522647])),\n",
       " (174, array([17.75288713])),\n",
       " (427, array([17.79774922])),\n",
       " (328, array([17.81045067])),\n",
       " (260, array([17.81327067])),\n",
       " (728, array([17.8243316])),\n",
       " (86, array([17.84920626])),\n",
       " (715, array([17.86267803])),\n",
       " (397, array([17.8794906])),\n",
       " (549, array([17.90332673])),\n",
       " (823, array([17.9195402])),\n",
       " (827, array([17.92072538])),\n",
       " (687, array([17.95523226])),\n",
       " (96, array([17.96591843])),\n",
       " (604, array([17.97096124])),\n",
       " (526, array([18.02992738])),\n",
       " (774, array([18.04422163])),\n",
       " (158, array([18.06032753])),\n",
       " (572, array([18.07497736])),\n",
       " (163, array([18.09417972])),\n",
       " (235, array([18.10469272])),\n",
       " (669, array([18.1159653])),\n",
       " (699, array([18.13828376])),\n",
       " (698, array([18.16417243])),\n",
       " (535, array([18.1678785])),\n",
       " (12, array([18.20166522])),\n",
       " (530, array([18.21022701])),\n",
       " (619, array([18.21623799])),\n",
       " (683, array([18.21649301])),\n",
       " (101, array([18.28183863])),\n",
       " (274, array([18.29289982])),\n",
       " (609, array([18.29576066])),\n",
       " (206, array([18.31123885])),\n",
       " (331, array([18.32078215])),\n",
       " (271, array([18.32456964])),\n",
       " (348, array([18.33872888])),\n",
       " (466, array([18.36328154])),\n",
       " (725, array([18.45521896])),\n",
       " (478, array([18.45750533])),\n",
       " (561, array([18.46476758])),\n",
       " (60, array([18.48383611])),\n",
       " (142, array([18.49034954])),\n",
       " (69, array([18.50382808])),\n",
       " (318, array([18.50510039])),\n",
       " (641, array([18.51607531])),\n",
       " (428, array([18.52082292])),\n",
       " (307, array([18.54062757])),\n",
       " (61, array([18.57413848])),\n",
       " (230, array([18.59824698])),\n",
       " (191, array([18.65012338])),\n",
       " (686, array([18.70710056])),\n",
       " (583, array([18.72538436])),\n",
       " (724, array([18.76048711])),\n",
       " (555, array([18.81749043])),\n",
       " (114, array([18.85249812])),\n",
       " (380, array([18.89606315])),\n",
       " (272, array([18.89866477])),\n",
       " (319, array([18.9055856])),\n",
       " (577, array([18.9161025])),\n",
       " (788, array([18.92910326])),\n",
       " (672, array([18.9398411])),\n",
       " (817, array([19.0296044])),\n",
       " (414, array([19.05675165])),\n",
       " (171, array([19.05907401])),\n",
       " (39, array([19.07102762])),\n",
       " (811, array([19.07705105])),\n",
       " (363, array([19.08243185])),\n",
       " (243, array([19.0946374])),\n",
       " (636, array([19.09931773])),\n",
       " (493, array([19.13010228])),\n",
       " (738, array([19.162282])),\n",
       " (519, array([19.22191522])),\n",
       " (407, array([19.2237575])),\n",
       " (367, array([19.26861104])),\n",
       " (320, array([19.27216767])),\n",
       " (759, array([19.28070117])),\n",
       " (84, array([19.29051479])),\n",
       " (126, array([19.3296777])),\n",
       " (413, array([19.3693412])),\n",
       " (833, array([19.37866331])),\n",
       " (432, array([19.38732935])),\n",
       " (53, array([19.42568358])),\n",
       " (697, array([19.43305618])),\n",
       " (371, array([19.44627174])),\n",
       " (17, array([19.45344384])),\n",
       " (792, array([19.58260373])),\n",
       " (627, array([19.62997843])),\n",
       " (431, array([19.6529568])),\n",
       " (297, array([19.67119589])),\n",
       " (154, array([19.68746484])),\n",
       " (197, array([19.70012248])),\n",
       " (189, array([19.70027597])),\n",
       " (406, array([19.71046713])),\n",
       " (417, array([19.72602538])),\n",
       " (402, array([19.79675768])),\n",
       " (132, array([19.8063564])),\n",
       " (548, array([19.81480409])),\n",
       " (203, array([19.84067296])),\n",
       " (825, array([19.84675928])),\n",
       " (543, array([19.84762607])),\n",
       " (430, array([19.84983329])),\n",
       " (121, array([19.86648495])),\n",
       " (231, array([19.87875282])),\n",
       " (38, array([19.90853643])),\n",
       " (467, array([19.91542564])),\n",
       " (420, array([19.92496591])),\n",
       " (13, array([19.98710318])),\n",
       " (713, array([19.99123661])),\n",
       " (218, array([19.99480642])),\n",
       " (221, array([20.03796876])),\n",
       " (28, array([20.04438338])),\n",
       " (183, array([20.07851864])),\n",
       " (229, array([20.08967477])),\n",
       " (790, array([20.09163825])),\n",
       " (587, array([20.10417425])),\n",
       " (222, array([20.1135518])),\n",
       " (261, array([20.12552759])),\n",
       " (846, array([20.12796988])),\n",
       " (155, array([20.12987769])),\n",
       " (494, array([20.13253841])),\n",
       " (278, array([20.14783529])),\n",
       " (565, array([20.14831378])),\n",
       " (2, array([20.17190657])),\n",
       " (776, array([20.19065401])),\n",
       " (703, array([20.20347697])),\n",
       " (393, array([20.22101373])),\n",
       " (426, array([20.22852196])),\n",
       " (80, array([20.25237286])),\n",
       " (539, array([20.25464131])),\n",
       " (150, array([20.30424394])),\n",
       " (347, array([20.31285867])),\n",
       " (383, array([20.32401597])),\n",
       " (162, array([20.32424519])),\n",
       " (356, array([20.35462317])),\n",
       " (717, array([20.37730829])),\n",
       " (779, array([20.38200389])),\n",
       " (575, array([20.38484329])),\n",
       " (716, array([20.41703473])),\n",
       " (424, array([20.42549571])),\n",
       " (73, array([20.43149959])),\n",
       " (173, array([20.51904121])),\n",
       " (802, array([20.55209515])),\n",
       " (532, array([20.60977638])),\n",
       " (146, array([20.61267517])),\n",
       " (592, array([20.68925886])),\n",
       " (161, array([20.69750059])),\n",
       " (483, array([20.7227091])),\n",
       " (812, array([20.75822985])),\n",
       " (192, array([20.77993683])),\n",
       " (688, array([20.78716653])),\n",
       " (448, array([20.78834359])),\n",
       " (479, array([20.81263926])),\n",
       " (529, array([20.83837253])),\n",
       " (745, array([20.85275405])),\n",
       " (386, array([20.87742228])),\n",
       " (646, array([20.87978312])),\n",
       " (474, array([20.88140931])),\n",
       " (445, array([20.94490901])),\n",
       " (692, array([20.96612694])),\n",
       " (578, array([21.01010584])),\n",
       " (400, array([21.0444815])),\n",
       " (281, array([21.06671078])),\n",
       " (385, array([21.07197748])),\n",
       " (265, array([21.074883])),\n",
       " (836, array([21.07619343])),\n",
       " (310, array([21.10443195])),\n",
       " (378, array([21.12290461])),\n",
       " (711, array([21.14929516])),\n",
       " (42, array([21.20094366])),\n",
       " (23, array([21.21762455])),\n",
       " (486, array([21.26196394])),\n",
       " (570, array([21.32454948])),\n",
       " (259, array([21.36689815])),\n",
       " (700, array([21.39625785])),\n",
       " (511, array([21.42228864])),\n",
       " (49, array([21.44274014])),\n",
       " (560, array([21.49926743])),\n",
       " (97, array([21.51811447])),\n",
       " (612, array([21.52184642])),\n",
       " (100, array([21.53319813])),\n",
       " (721, array([21.53995158])),\n",
       " (760, array([21.58365767])),\n",
       " (500, array([21.58381418])),\n",
       " (678, array([21.59957119])),\n",
       " (344, array([21.61580882])),\n",
       " (540, array([21.62523292])),\n",
       " (188, array([21.63706558])),\n",
       " (105, array([21.65148028])),\n",
       " (829, array([21.67039926])),\n",
       " (129, array([21.68301451])),\n",
       " (472, array([21.72794733])),\n",
       " (251, array([21.75176844])),\n",
       " (764, array([21.77259658])),\n",
       " (813, array([21.79200541])),\n",
       " (423, array([21.84002784])),\n",
       " (528, array([21.84695481])),\n",
       " (273, array([21.86822541])),\n",
       " (157, array([21.88778335])),\n",
       " (0, array([21.90294071])),\n",
       " (276, array([21.93304541])),\n",
       " (470, array([21.93956627])),\n",
       " (461, array([22.00086462])),\n",
       " (444, array([22.00249766])),\n",
       " (165, array([22.02387444])),\n",
       " (366, array([22.03496214])),\n",
       " (694, array([22.05764659])),\n",
       " (398, array([22.12969183])),\n",
       " (490, array([22.13702018])),\n",
       " (541, array([22.13945091])),\n",
       " (438, array([22.1827376])),\n",
       " (770, array([22.18550489])),\n",
       " (527, array([22.19211708])),\n",
       " (665, array([22.20604401])),\n",
       " (45, array([22.23129377])),\n",
       " (831, array([22.23703585])),\n",
       " (789, array([22.23936677])),\n",
       " (546, array([22.26745325])),\n",
       " (562, array([22.27094225])),\n",
       " (302, array([22.35694583])),\n",
       " (806, array([22.36226927])),\n",
       " (458, array([22.38371437])),\n",
       " (209, array([22.42077244])),\n",
       " (756, array([22.43090938])),\n",
       " (618, array([22.45696214])),\n",
       " (443, array([22.46347619])),\n",
       " (120, array([22.49627271])),\n",
       " (574, array([22.51315104])),\n",
       " (294, array([22.51843819])),\n",
       " (415, array([22.52125264])),\n",
       " (358, array([22.55874016])),\n",
       " (681, array([22.63628928])),\n",
       " (690, array([22.65337089])),\n",
       " (360, array([22.66976801])),\n",
       " (279, array([22.68436112])),\n",
       " (384, array([22.69062839])),\n",
       " (416, array([22.7005388])),\n",
       " (91, array([22.72640571])),\n",
       " (283, array([22.76605995])),\n",
       " (714, array([22.79723681])),\n",
       " (62, array([22.80888714])),\n",
       " (580, array([22.84314636])),\n",
       " (586, array([22.86565175])),\n",
       " (389, array([22.89362232])),\n",
       " (422, array([22.91366762])),\n",
       " (20, array([22.91515717])),\n",
       " (330, array([22.91969646])),\n",
       " (563, array([22.96765851])),\n",
       " (469, array([22.97300922])),\n",
       " (196, array([23.0052511])),\n",
       " (447, array([23.03593614])),\n",
       " (67, array([23.04389241])),\n",
       " (468, array([23.09970704])),\n",
       " (796, array([23.11394103])),\n",
       " (78, array([23.11400181])),\n",
       " (830, array([23.12917288])),\n",
       " (473, array([23.15968839])),\n",
       " (181, array([23.17777285])),\n",
       " (48, array([23.2303154])),\n",
       " (822, array([23.24146401])),\n",
       " (305, array([23.27387619])),\n",
       " (217, array([23.27814103])),\n",
       " (642, array([23.32937393])),\n",
       " (801, array([23.37530307])),\n",
       " (326, array([23.40206659])),\n",
       " (24, array([23.40554375])),\n",
       " (377, array([23.43892304])),\n",
       " (117, array([23.43929716])),\n",
       " (102, array([23.44247048])),\n",
       " (584, array([23.52591192])),\n",
       " (787, array([23.57613136])),\n",
       " (741, array([23.58217896])),\n",
       " (342, array([23.61139667])),\n",
       " (840, array([23.67411124])),\n",
       " (566, array([23.68129917])),\n",
       " (655, array([23.69166118])),\n",
       " (374, array([23.72883421])),\n",
       " (489, array([23.77273111])),\n",
       " (567, array([23.78611894])),\n",
       " (268, array([23.79880763])),\n",
       " (36, array([23.80453146])),\n",
       " (87, array([23.85113981])),\n",
       " (488, array([23.88204622])),\n",
       " (375, array([23.89382974])),\n",
       " (807, array([24.02043632])),\n",
       " (144, array([24.02933688])),\n",
       " (210, array([24.04291071])),\n",
       " (147, array([24.06081319])),\n",
       " (637, array([24.07058189])),\n",
       " (727, array([24.08969682])),\n",
       " (277, array([24.14818207])),\n",
       " (816, array([24.16336679])),\n",
       " (15, array([24.20593657])),\n",
       " (341, array([24.21561435])),\n",
       " (136, array([24.22369305])),\n",
       " (524, array([24.3547401])),\n",
       " (361, array([24.36646721])),\n",
       " (691, array([24.37880048])),\n",
       " (832, array([24.39242327])),\n",
       " (596, array([24.41601878])),\n",
       " (766, array([24.47216845])),\n",
       " (639, array([24.53735217])),\n",
       " (275, array([24.59070473])),\n",
       " (339, array([24.65541607])),\n",
       " (553, array([24.69481115])),\n",
       " (640, array([24.76496564])),\n",
       " (270, array([24.8098878])),\n",
       " (280, array([24.85456524])),\n",
       " (668, array([24.86331027])),\n",
       " (195, array([24.92334629])),\n",
       " (607, array([24.93420787])),\n",
       " (735, array([24.94001883])),\n",
       " (106, array([24.98993107])),\n",
       " (56, array([25.01718947])),\n",
       " (809, array([25.02464591])),\n",
       " (224, array([25.06662865])),\n",
       " (264, array([25.09447915])),\n",
       " (740, array([25.11063934])),\n",
       " (660, array([25.12331527])),\n",
       " (68, array([25.15041413])),\n",
       " (603, array([25.1637354])),\n",
       " (815, array([25.20258349])),\n",
       " (118, array([25.20518101])),\n",
       " (579, array([25.28484062])),\n",
       " (140, array([25.31338528])),\n",
       " (576, array([25.3426969])),\n",
       " (112, array([25.35400739])),\n",
       " (588, array([25.3739234])),\n",
       " (651, array([25.44073415])),\n",
       " (267, array([25.49116546])),\n",
       " (71, array([25.57876091])),\n",
       " (440, array([25.64280496])),\n",
       " (554, array([25.75596383])),\n",
       " (95, array([25.79034843])),\n",
       " (79, array([26.02629878])),\n",
       " (239, array([26.11374918])),\n",
       " (657, array([26.1924649])),\n",
       " (599, array([26.20645079])),\n",
       " (156, array([26.23023245])),\n",
       " (503, array([26.24178813])),\n",
       " (185, array([26.26732444])),\n",
       " (317, array([26.30520411])),\n",
       " (617, array([26.33868519])),\n",
       " (122, array([26.3575996])),\n",
       " (767, array([26.39097312])),\n",
       " (485, array([26.39957963])),\n",
       " (803, array([26.43256899])),\n",
       " (313, array([26.44880228])),\n",
       " (763, array([26.58702663])),\n",
       " (777, array([26.70454882])),\n",
       " (11, array([26.73913537])),\n",
       " (752, array([26.77134886])),\n",
       " (773, array([26.80612955])),\n",
       " (291, array([26.9267861])),\n",
       " (37, array([26.97450763])),\n",
       " (201, array([27.03023908])),\n",
       " (357, array([27.04197493])),\n",
       " (141, array([27.39511602])),\n",
       " (808, array([27.41944782])),\n",
       " (615, array([27.47479367])),\n",
       " (557, array([27.60527155])),\n",
       " (606, array([27.92021929])),\n",
       " (534, array([27.94601821])),\n",
       " (425, array([27.99509516])),\n",
       " (227, array([28.01303279])),\n",
       " (108, array([28.01523585])),\n",
       " (611, array([28.02285235])),\n",
       " (664, array([28.18944195])),\n",
       " (765, array([28.29136673])),\n",
       " (257, array([28.4796943])),\n",
       " (387, array([28.72368693])),\n",
       " (762, array([28.80311913])),\n",
       " (85, array([28.81539202])),\n",
       " (350, array([28.96172416])),\n",
       " (205, array([29.12218566])),\n",
       " (370, array([29.27562279])),\n",
       " (178, array([29.27805697])),\n",
       " (33, array([29.29953385])),\n",
       " (47, array([29.3897162])),\n",
       " (41, array([29.50840201])),\n",
       " (649, array([29.534549])),\n",
       " (419, array([29.69834689])),\n",
       " (338, array([29.90201984])),\n",
       " (215, array([30.29290442])),\n",
       " (648, array([30.30495205])),\n",
       " (471, array([30.3662001])),\n",
       " (324, array([30.4462688])),\n",
       " (74, array([30.48900202])),\n",
       " (404, array([31.15419472])),\n",
       " (168, array([31.40902043])),\n",
       " (814, array([32.18332827])),\n",
       " (359, array([33.89634286])),\n",
       " (220, array([34.21147874])),\n",
       " (327, array([35.73087491])),\n",
       " (207, array([36.1142703])),\n",
       " (212, array([1000.]))]"
      ]
     },
     "execution_count": 76,
     "metadata": {},
     "output_type": "execute_result"
    }
   ],
   "source": [
    "min_dists"
   ]
  },
  {
   "cell_type": "code",
   "execution_count": 74,
   "metadata": {},
   "outputs": [
    {
     "data": {
      "text/plain": [
       "<zip at 0x11c904148>"
      ]
     },
     "execution_count": 74,
     "metadata": {},
     "output_type": "execute_result"
    }
   ],
   "source": [
    "zip(range(0,len(dists)),dists)"
   ]
  },
  {
   "cell_type": "code",
   "execution_count": 67,
   "metadata": {},
   "outputs": [
    {
     "data": {
      "text/plain": [
       "'CM_1_city_1'"
      ]
     },
     "execution_count": 67,
     "metadata": {},
     "output_type": "execute_result"
    }
   ],
   "source": [
    "image_names[0][0].split('/')[-1].rstrip('.png')"
   ]
  },
  {
   "cell_type": "code",
   "execution_count": 42,
   "metadata": {},
   "outputs": [],
   "source": [
    "idx = random.choice(range(0,len(z_images)))"
   ]
  },
  {
   "cell_type": "code",
   "execution_count": 43,
   "metadata": {},
   "outputs": [
    {
     "name": "stdout",
     "output_type": "stream",
     "text": [
      "467\n"
     ]
    }
   ],
   "source": [
    "print(idx)"
   ]
  },
  {
   "cell_type": "code",
   "execution_count": 47,
   "metadata": {},
   "outputs": [
    {
     "data": {
      "text/plain": [
       "(1, 32)"
      ]
     },
     "execution_count": 47,
     "metadata": {},
     "output_type": "execute_result"
    }
   ],
   "source": [
    "z_images[0].reshape(1,-1).shape"
   ]
  },
  {
   "cell_type": "code",
   "execution_count": 50,
   "metadata": {},
   "outputs": [
    {
     "data": {
      "text/plain": [
       "(848, 32)"
      ]
     },
     "execution_count": 50,
     "metadata": {},
     "output_type": "execute_result"
    }
   ],
   "source": [
    "np.array(z_images).shape"
   ]
  },
  {
   "cell_type": "code",
   "execution_count": 52,
   "metadata": {},
   "outputs": [],
   "source": [
    "# Find closest image\n",
    "from sklearn.metrics import pairwise_distances\n",
    "\n",
    "dists = pairwise_distances(np.array(z_images),z_images[idx].reshape(1,-1))"
   ]
  },
  {
   "cell_type": "code",
   "execution_count": 57,
   "metadata": {},
   "outputs": [],
   "source": [
    "dists[idx]=1000"
   ]
  },
  {
   "cell_type": "code",
   "execution_count": 59,
   "metadata": {},
   "outputs": [],
   "source": [
    "idx_min = np.argmin(dists)"
   ]
  },
  {
   "cell_type": "code",
   "execution_count": 60,
   "metadata": {},
   "outputs": [
    {
     "data": {
      "text/plain": [
       "821"
      ]
     },
     "execution_count": 60,
     "metadata": {},
     "output_type": "execute_result"
    }
   ],
   "source": [
    "idx_min"
   ]
  },
  {
   "cell_type": "code",
   "execution_count": 61,
   "metadata": {},
   "outputs": [],
   "source": [
    "save_image(image_tensors[idx].cpu(),'test.png')\n",
    "save_image(image_tensors[idx_min].cpu(),'test_closest.png')"
   ]
  },
  {
   "cell_type": "code",
   "execution_count": 44,
   "metadata": {},
   "outputs": [
    {
     "data": {
      "text/plain": [
       "array([-1.2680831 ,  2.03022718, -3.20849895, -1.12733805,  2.58588839,\n",
       "       -3.22214961, -5.32391882, -4.38645649, -2.95865607,  0.84538496,\n",
       "       -3.08759069, -3.31504774,  1.83056581, -0.5717259 ,  1.85536098,\n",
       "        2.43619418, -3.56942344,  0.02367967, -5.38384056,  5.02958822,\n",
       "       -0.05994517, -1.04160118,  1.34245837, -0.90845788, -0.89204389,\n",
       "        2.26867151,  6.22152281,  6.31124735,  3.6381135 ,  6.14752293,\n",
       "        0.14025033, -2.19402814])"
      ]
     },
     "execution_count": 44,
     "metadata": {},
     "output_type": "execute_result"
    }
   ],
   "source": [
    "z_images[idx]"
   ]
  },
  {
   "cell_type": "code",
   "execution_count": 36,
   "metadata": {},
   "outputs": [],
   "source": [
    "Image.open(image_names[355][0]).show()"
   ]
  },
  {
   "cell_type": "code",
   "execution_count": 23,
   "metadata": {},
   "outputs": [
    {
     "data": {
      "text/plain": [
       "'GH'"
      ]
     },
     "execution_count": 23,
     "metadata": {},
     "output_type": "execute_result"
    }
   ],
   "source": [
    "code"
   ]
  },
  {
   "cell_type": "code",
   "execution_count": 19,
   "metadata": {},
   "outputs": [
    {
     "data": {
      "text/plain": [
       "'../reports/figures/figures_20000/train/CM_1_city_1.png'"
      ]
     },
     "execution_count": 19,
     "metadata": {},
     "output_type": "execute_result"
    }
   ],
   "source": [
    "image_names[0][0]"
   ]
  },
  {
   "cell_type": "code",
   "execution_count": 87,
   "metadata": {},
   "outputs": [
    {
     "data": {
      "text/plain": [
       "(1, 32)"
      ]
     },
     "execution_count": 87,
     "metadata": {},
     "output_type": "execute_result"
    }
   ],
   "source": [
    "z_image.shape"
   ]
  },
  {
   "cell_type": "code",
   "execution_count": 70,
   "metadata": {},
   "outputs": [
    {
     "data": {
      "text/plain": [
       "torch.Size([5, 1, 64, 64])"
      ]
     },
     "execution_count": 70,
     "metadata": {},
     "output_type": "execute_result"
    }
   ],
   "source": [
    "images.size()"
   ]
  },
  {
   "cell_type": "code",
   "execution_count": 71,
   "metadata": {},
   "outputs": [
    {
     "data": {
      "text/plain": [
       "3"
      ]
     },
     "execution_count": 71,
     "metadata": {},
     "output_type": "execute_result"
    }
   ],
   "source": [
    "len(model.encode(images))"
   ]
  },
  {
   "cell_type": "code",
   "execution_count": 77,
   "metadata": {},
   "outputs": [
    {
     "ename": "RuntimeError",
     "evalue": "Can't call numpy() on Variable that requires grad. Use var.detach().numpy() instead.",
     "output_type": "error",
     "traceback": [
      "\u001b[0;31m---------------------------------------------------------------------------\u001b[0m",
      "\u001b[0;31mRuntimeError\u001b[0m                              Traceback (most recent call last)",
      "\u001b[0;32m<ipython-input-77-73bdc6c94069>\u001b[0m in \u001b[0;36m<module>\u001b[0;34m()\u001b[0m\n\u001b[0;32m----> 1\u001b[0;31m \u001b[0mmodel\u001b[0m\u001b[0;34m.\u001b[0m\u001b[0mencode\u001b[0m\u001b[0;34m(\u001b[0m\u001b[0mimages\u001b[0m\u001b[0;34m)\u001b[0m\u001b[0;34m[\u001b[0m\u001b[0;36m0\u001b[0m\u001b[0;34m]\u001b[0m\u001b[0;34m.\u001b[0m\u001b[0mnumpy\u001b[0m\u001b[0;34m(\u001b[0m\u001b[0;34m)\u001b[0m\u001b[0;34m\u001b[0m\u001b[0m\n\u001b[0m",
      "\u001b[0;31mRuntimeError\u001b[0m: Can't call numpy() on Variable that requires grad. Use var.detach().numpy() instead."
     ]
    }
   ],
   "source": [
    "model.encode(images)[0].numpy()"
   ]
  },
  {
   "cell_type": "code",
   "execution_count": 32,
   "metadata": {},
   "outputs": [
    {
     "data": {
      "text/plain": [
       "tensor([[[0.0000, 0.0000, 0.0000,  ..., 0.0588, 0.2235, 0.4902],\n",
       "         [0.0000, 0.0000, 0.0000,  ..., 0.6392, 0.8627, 0.9686],\n",
       "         [0.0000, 0.0000, 0.0000,  ..., 0.9569, 0.9686, 0.9725],\n",
       "         ...,\n",
       "         [0.4745, 0.7294, 0.7765,  ..., 0.2706, 0.8784, 0.4157],\n",
       "         [0.7294, 0.4588, 0.1647,  ..., 0.1608, 0.8667, 0.5529],\n",
       "         [0.1059, 0.0157, 0.0000,  ..., 0.0980, 0.7961, 0.6706]]])"
      ]
     },
     "execution_count": 32,
     "metadata": {},
     "output_type": "execute_result"
    }
   ],
   "source": [
    "train_dataset[0][0]"
   ]
  },
  {
   "cell_type": "code",
   "execution_count": null,
   "metadata": {},
   "outputs": [],
   "source": [
    "for idx, (images, _) in enumerate(train_loader):\n",
    "    "
   ]
  }
 ],
 "metadata": {
  "kernelspec": {
   "display_name": "Python 3",
   "language": "python",
   "name": "python3"
  },
  "language_info": {
   "codemirror_mode": {
    "name": "ipython",
    "version": 3
   },
   "file_extension": ".py",
   "mimetype": "text/x-python",
   "name": "python",
   "nbconvert_exporter": "python",
   "pygments_lexer": "ipython3",
   "version": "3.7.1"
  }
 },
 "nbformat": 4,
 "nbformat_minor": 1
}
