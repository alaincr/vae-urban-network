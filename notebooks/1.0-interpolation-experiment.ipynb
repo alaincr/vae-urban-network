{
 "cells": [
  {
   "cell_type": "markdown",
   "metadata": {},
   "source": [
    "With current VAE model, it works but not impressively well. (lacks good generalisation)"
   ]
  },
  {
   "cell_type": "markdown",
   "metadata": {},
   "source": [
    "* Load model"
   ]
  },
  {
   "cell_type": "code",
   "execution_count": 69,
   "metadata": {},
   "outputs": [],
   "source": [
    "import os\n",
    "import sys\n",
    "import torch\n",
    "from torchvision import transforms\n",
    "import numpy as np\n",
    "from torchvision.utils import save_image"
   ]
  },
  {
   "cell_type": "code",
   "execution_count": 4,
   "metadata": {},
   "outputs": [],
   "source": [
    "sys.path.append('../')"
   ]
  },
  {
   "cell_type": "code",
   "execution_count": 5,
   "metadata": {},
   "outputs": [],
   "source": [
    "from src.models.vae import VAE\n",
    "from src.data.dataset import CityImageDataset\n",
    "from src.data.invert import Invert\n",
    "from settings import FIGPATH\n",
    "import matplotlib.pyplot as plt\n",
    "%matplotlib inline"
   ]
  },
  {
   "cell_type": "code",
   "execution_count": 7,
   "metadata": {},
   "outputs": [
    {
     "name": "stdout",
     "output_type": "stream",
     "text": [
      "cpu\n"
     ]
    }
   ],
   "source": [
    "device = torch.device('cuda' if torch.cuda.is_available() else 'cpu')\n",
    "print(device)"
   ]
  },
  {
   "cell_type": "markdown",
   "metadata": {},
   "source": [
    "* Load model"
   ]
  },
  {
   "cell_type": "code",
   "execution_count": 8,
   "metadata": {},
   "outputs": [],
   "source": [
    "image_channels = 1\n",
    "model = VAE(image_channels=image_channels, h_dim=1024).to(device)\n",
    "model.load_state_dict(torch.load('../src/models/vae.torch', map_location='cpu'))  "
   ]
  },
  {
   "cell_type": "markdown",
   "metadata": {},
   "source": [
    "* Prep data"
   ]
  },
  {
   "cell_type": "code",
   "execution_count": 9,
   "metadata": {},
   "outputs": [],
   "source": [
    "datapath = os.path.join(FIGPATH,'figures_20000')"
   ]
  },
  {
   "cell_type": "code",
   "execution_count": 21,
   "metadata": {},
   "outputs": [],
   "source": [
    "train_dataset = CityImageDataset(root=os.path.join(datapath,'train'),transform=transforms.Compose([\n",
    "    transforms.Grayscale(),\n",
    "    Invert(),\n",
    "    transforms.CenterCrop(128),    # instead of random crop\n",
    "    transforms.Resize(64),\n",
    "    transforms.ToTensor(),\n",
    "]))\n",
    "train_loader = torch.utils.data.DataLoader(\n",
    "    train_dataset,\n",
    "    batch_size=1,\n",
    "    shuffle = True\n",
    ")"
   ]
  },
  {
   "cell_type": "markdown",
   "metadata": {},
   "source": [
    "* Interpolate"
   ]
  },
  {
   "cell_type": "code",
   "execution_count": 70,
   "metadata": {},
   "outputs": [],
   "source": [
    "idx1 = 129\n",
    "idx2 = 250\n",
    "npoints = 10\n",
    "points = []\n",
    "with torch.no_grad():\n",
    "    z1 = model.encode(train_loader.dataset[idx1][0].unsqueeze(0))[0].numpy()\n",
    "    z2 = model.encode(train_loader.dataset[idx2][0].unsqueeze(0))[0].numpy()\n",
    "    \n",
    "    # Interpolation\n",
    "    diff = z2-z1\n",
    "    for i in range(0,npoints+1):\n",
    "        point = z1 + i*diff/npoints\n",
    "        points.append(point)\n",
    "        \n",
    "    # Plot each interpolated point\n",
    "    for i,point in enumerate(points):\n",
    "        image_tensor = model.decode(torch.from_numpy(point))\n",
    "        save_image(image_tensor.cpu(),\"test%s.png\" % i)"
   ]
  }
 ],
 "metadata": {
  "kernelspec": {
   "display_name": "Python 3",
   "language": "python",
   "name": "python3"
  },
  "language_info": {
   "codemirror_mode": {
    "name": "ipython",
    "version": 3
   },
   "file_extension": ".py",
   "mimetype": "text/x-python",
   "name": "python",
   "nbconvert_exporter": "python",
   "pygments_lexer": "ipython3",
   "version": "3.7.1"
  }
 },
 "nbformat": 4,
 "nbformat_minor": 2
}
