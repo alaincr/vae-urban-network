{
 "cells": [
  {
   "cell_type": "code",
   "execution_count": 1,
   "metadata": {},
   "outputs": [],
   "source": [
    "result_path = '../src/data/scripts/'"
   ]
  },
  {
   "cell_type": "code",
   "execution_count": 2,
   "metadata": {},
   "outputs": [],
   "source": [
    "import pickle"
   ]
  },
  {
   "cell_type": "code",
   "execution_count": 6,
   "metadata": {},
   "outputs": [],
   "source": [
    "xranges = pickle.load(open(result_path + 'xranges.pickle','rb'))\n",
    "yranges = pickle.load(open(result_path + 'yranges.pickle','rb'))"
   ]
  },
  {
   "cell_type": "code",
   "execution_count": 7,
   "metadata": {},
   "outputs": [
    {
     "data": {
      "text/plain": [
       "1059"
      ]
     },
     "execution_count": 7,
     "metadata": {},
     "output_type": "execute_result"
    }
   ],
   "source": [
    "len(yranges)"
   ]
  },
  {
   "cell_type": "code",
   "execution_count": 8,
   "metadata": {},
   "outputs": [
    {
     "data": {
      "text/plain": [
       "4773.7905400241725"
      ]
     },
     "execution_count": 8,
     "metadata": {},
     "output_type": "execute_result"
    }
   ],
   "source": [
    "min(yranges)"
   ]
  },
  {
   "cell_type": "code",
   "execution_count": 9,
   "metadata": {},
   "outputs": [
    {
     "data": {
      "text/plain": [
       "325625.4219235494"
      ]
     },
     "execution_count": 9,
     "metadata": {},
     "output_type": "execute_result"
    }
   ],
   "source": [
    "max(yranges)"
   ]
  },
  {
   "cell_type": "code",
   "execution_count": 10,
   "metadata": {},
   "outputs": [],
   "source": [
    "import matplotlib.pyplot as plt"
   ]
  },
  {
   "cell_type": "code",
   "execution_count": 13,
   "metadata": {},
   "outputs": [
    {
     "data": {
      "text/plain": [
       "(array([ 7., 10., 16., 12., 20., 35., 39., 41., 51., 43., 60., 47., 51.,\n",
       "        45., 45., 36., 46., 35., 45., 26., 22., 19., 26., 23., 20., 18.,\n",
       "        16., 17., 13., 18., 14., 13.,  4.,  7., 14.,  6.,  3.,  5.,  9.,\n",
       "         8.,  4.,  6.,  4.,  2.,  6.,  1.,  3.,  1.,  4.,  4.,  3.,  2.,\n",
       "         2.,  4.,  0.,  2.,  1.,  0.,  1.,  3.,  2.,  2.,  1.,  1.,  0.,\n",
       "         0.,  2.,  0.,  3.,  0.,  1.,  1.,  0.,  0.,  0.,  0.,  0.,  1.,\n",
       "         0.,  0.,  0.,  0.,  0.,  1.,  0.,  0.,  0.,  0.,  0.,  0.,  1.,\n",
       "         1.,  3.,  0.,  0.,  0.,  0.,  0.,  0.,  1.]),\n",
       " array([  4773.79054002,   7982.30685386,  11190.82316769,  14399.33948153,\n",
       "         17607.85579537,  20816.3721092 ,  24024.88842304,  27233.40473687,\n",
       "         30441.92105071,  33650.43736454,  36858.95367838,  40067.46999221,\n",
       "         43275.98630605,  46484.50261988,  49693.01893372,  52901.53524755,\n",
       "         56110.05156139,  59318.56787522,  62527.08418906,  65735.60050289,\n",
       "         68944.11681673,  72152.63313056,  75361.1494444 ,  78569.66575823,\n",
       "         81778.18207207,  84986.69838591,  88195.21469974,  91403.73101358,\n",
       "         94612.24732741,  97820.76364125, 101029.27995508, 104237.79626892,\n",
       "        107446.31258275, 110654.82889659, 113863.34521042, 117071.86152426,\n",
       "        120280.37783809, 123488.89415193, 126697.41046576, 129905.9267796 ,\n",
       "        133114.44309343, 136322.95940727, 139531.4757211 , 142739.99203494,\n",
       "        145948.50834878, 149157.02466261, 152365.54097645, 155574.05729028,\n",
       "        158782.57360412, 161991.08991795, 165199.60623179, 168408.12254562,\n",
       "        171616.63885946, 174825.15517329, 178033.67148713, 181242.18780096,\n",
       "        184450.7041148 , 187659.22042863, 190867.73674247, 194076.2530563 ,\n",
       "        197284.76937014, 200493.28568397, 203701.80199781, 206910.31831165,\n",
       "        210118.83462548, 213327.35093932, 216535.86725315, 219744.38356699,\n",
       "        222952.89988082, 226161.41619466, 229369.93250849, 232578.44882233,\n",
       "        235786.96513616, 238995.48145   , 242203.99776383, 245412.51407767,\n",
       "        248621.0303915 , 251829.54670534, 255038.06301917, 258246.57933301,\n",
       "        261455.09564684, 264663.61196068, 267872.12827451, 271080.64458835,\n",
       "        274289.16090219, 277497.67721602, 280706.19352986, 283914.70984369,\n",
       "        287123.22615753, 290331.74247136, 293540.2587852 , 296748.77509903,\n",
       "        299957.29141287, 303165.8077267 , 306374.32404054, 309582.84035437,\n",
       "        312791.35666821, 315999.87298204, 319208.38929588, 322416.90560971,\n",
       "        325625.42192355]),\n",
       " <a list of 100 Patch objects>)"
      ]
     },
     "execution_count": 13,
     "metadata": {},
     "output_type": "execute_result"
    },
    {
     "data": {
      "image/png": "[encoded data removed]",
      "text/plain": [
       "<Figure size 432x288 with 1 Axes>"
      ]
     },
     "metadata": {},
     "output_type": "display_data"
    }
   ],
   "source": [
    "plt.hist(yranges,bins=100)"
   ]
  },
  {
   "cell_type": "code",
   "execution_count": 12,
   "metadata": {},
   "outputs": [
    {
     "data": {
      "text/plain": [
       "(array([ 5., 12., 15., 17., 46., 57., 61., 57., 76., 68., 59., 55., 42.,\n",
       "        48., 50., 46., 41., 28., 35., 28., 20., 17., 14., 19., 16., 10.,\n",
       "        15.,  7.,  9.,  3.,  3.,  5., 10.,  4.,  3.,  2.,  4.,  2.,  6.,\n",
       "         4.,  3.,  6.,  3.,  4.,  3.,  0.,  2.,  3.,  4.,  2.,  0.,  0.,\n",
       "         0.,  1.,  0.,  1.,  0.,  0.,  1.,  0.,  0.,  0.,  0.,  2.,  1.,\n",
       "         1.,  0.,  0.,  0.,  0.,  0.,  0.,  0.,  0.,  0.,  0.,  0.,  0.,\n",
       "         0.,  0.,  0.,  0.,  0.,  0.,  0.,  0.,  0.,  0.,  1.,  0.,  1.,\n",
       "         0.,  0.,  0.,  0.,  0.,  0.,  0.,  0.,  1.]),\n",
       " array([  2705.25571033,   7243.55365476,  11781.85159919,  16320.14954361,\n",
       "         20858.44748804,  25396.74543247,  29935.04337689,  34473.34132132,\n",
       "         39011.63926575,  43549.93721018,  48088.2351546 ,  52626.53309903,\n",
       "         57164.83104346,  61703.12898789,  66241.42693231,  70779.72487674,\n",
       "         75318.02282117,  79856.32076559,  84394.61871002,  88932.91665445,\n",
       "         93471.21459888,  98009.5125433 , 102547.81048773, 107086.10843216,\n",
       "        111624.40637658, 116162.70432101, 120701.00226544, 125239.30020987,\n",
       "        129777.59815429, 134315.89609872, 138854.19404315, 143392.49198758,\n",
       "        147930.789932  , 152469.08787643, 157007.38582086, 161545.68376528,\n",
       "        166083.98170971, 170622.27965414, 175160.57759857, 179698.87554299,\n",
       "        184237.17348742, 188775.47143185, 193313.76937627, 197852.0673207 ,\n",
       "        202390.36526513, 206928.66320956, 211466.96115398, 216005.25909841,\n",
       "        220543.55704284, 225081.85498726, 229620.15293169, 234158.45087612,\n",
       "        238696.74882055, 243235.04676497, 247773.3447094 , 252311.64265383,\n",
       "        256849.94059826, 261388.23854268, 265926.53648711, 270464.83443154,\n",
       "        275003.13237596, 279541.43032039, 284079.72826482, 288618.02620925,\n",
       "        293156.32415367, 297694.6220981 , 302232.92004253, 306771.21798695,\n",
       "        311309.51593138, 315847.81387581, 320386.11182024, 324924.40976466,\n",
       "        329462.70770909, 334001.00565352, 338539.30359795, 343077.60154237,\n",
       "        347615.8994868 , 352154.19743123, 356692.49537565, 361230.79332008,\n",
       "        365769.09126451, 370307.38920894, 374845.68715336, 379383.98509779,\n",
       "        383922.28304222, 388460.58098664, 392998.87893107, 397537.1768755 ,\n",
       "        402075.47481993, 406613.77276435, 411152.07070878, 415690.36865321,\n",
       "        420228.66659763, 424766.96454206, 429305.26248649, 433843.56043092,\n",
       "        438381.85837534, 442920.15631977, 447458.4542642 , 451996.75220863,\n",
       "        456535.05015305]),\n",
       " <a list of 100 Patch objects>)"
      ]
     },
     "execution_count": 12,
     "metadata": {},
     "output_type": "execute_result"
    },
    {
     "data": {
      "image/png": "[encoded data removed]",
      "text/plain": [
       "<Figure size 432x288 with 1 Axes>"
      ]
     },
     "metadata": {},
     "output_type": "display_data"
    }
   ],
   "source": [
    "plt.hist(xranges,bins=100)"
   ]
  }
 ],
 "metadata": {
  "kernelspec": {
   "display_name": "Python 3",
   "language": "python",
   "name": "python3"
  },
  "language_info": {
   "codemirror_mode": {
    "name": "ipython",
    "version": 3
   },
   "file_extension": ".py",
   "mimetype": "text/x-python",
   "name": "python",
   "nbconvert_exporter": "python",
   "pygments_lexer": "ipython3",
   "version": "3.6.5"
  }
 },
 "nbformat": 4,
 "nbformat_minor": 2
}
